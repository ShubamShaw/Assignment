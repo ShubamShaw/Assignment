{
 "cells": [
  {
   "cell_type": "code",
   "execution_count": 1,
   "id": "d1d3d83a-562e-452b-b58f-d8f188037c44",
   "metadata": {},
   "outputs": [],
   "source": [
    "#Assignment 1#"
   ]
  },
  {
   "cell_type": "code",
   "execution_count": null,
   "id": "ed13e89f-d542-4952-86d9-e9f94d65aba6",
   "metadata": {},
   "outputs": [],
   "source": [
    "1. Guido van Rossum\n",
    "2. Python is an interpreted programming language, supporting object-oriented, structured, and functional programming.\n",
    "3.Yes\n",
    "4.Python has more than one extension but most used python extension is .py\n",
    "5.Pyhton is interpreted language.\n",
    "6. Indentat\n",
    "7.\"#\" is used for single line comment.\n",
    "8. python -- version in command prompt or you can refer to the below code to get the version.\n",
    "9.\"Lamda\"\n",
    "10.pip means 'preferred installer program' used to install and manage software package.\n",
    "11.List,set,dictionart,Tuples are some bilt in function in python.\n",
    "12. '79'\n",
    "13.Python is simple to understand, Python offers a wide range of libraries, Python has various use case in many growing field(Data science is on the example)\n",
    "14.Memory management in Python involves a private heap containing all Python objects and data structures. \n",
    "15. We can go to python.org website and select the latest version to download the python in windows after checking our system configuration.\n",
    "Once you’ve located your Python executable, open the Start menu and search for the Edit the system environment variables entry,\n",
    "which opens up a System Properties window. In the Advanced tab, click on the button Environment Variables.\n",
    "There you’ll see User and System variables, which you’ll be able to edit: In the section entitled User Variables, double-click on the entry that says Path. \n",
    "Another window will pop up showing a list of paths. Click the New button and paste the path to your Python executable there. \n",
    "Once that’s inserted, select your newly added path and click the Move Up button until it’s at the top.\n",
    "16. Yes indentation is requried in python"
   ]
  },
  {
   "cell_type": "code",
   "execution_count": 5,
   "id": "729e0081-e13b-4fce-ae8e-ee25f5e68397",
   "metadata": {},
   "outputs": [
    {
     "name": "stdout",
     "output_type": "stream",
     "text": [
      "3.10.8 | packaged by conda-forge | (main, Nov 22 2022, 08:26:04) [GCC 10.4.0]\n"
     ]
    }
   ],
   "source": [
    "import sys \n",
    "print(sys.version)"
   ]
  },
  {
   "cell_type": "code",
   "execution_count": null,
   "id": "474e9880-28c4-402d-a1a9-a3187c1ff479",
   "metadata": {},
   "outputs": [],
   "source": []
  }
 ],
 "metadata": {
  "kernelspec": {
   "display_name": "Python 3 (ipykernel)",
   "language": "python",
   "name": "python3"
  },
  "language_info": {
   "codemirror_mode": {
    "name": "ipython",
    "version": 3
   },
   "file_extension": ".py",
   "mimetype": "text/x-python",
   "name": "python",
   "nbconvert_exporter": "python",
   "pygments_lexer": "ipython3",
   "version": "3.10.8"
  }
 },
 "nbformat": 4,
 "nbformat_minor": 5
}
